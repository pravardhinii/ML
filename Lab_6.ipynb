{
 "cells": [
  {
   "cell_type": "code",
   "execution_count": 9,
   "id": "ff9da8ab-b94c-4f13-8648-154b4e48611f",
   "metadata": {},
   "outputs": [
    {
     "name": "stdout",
     "output_type": "stream",
     "text": [
      "         id diagnosis  radius_mean  texture_mean  perimeter_mean  area_mean  \\\n",
      "0    842302         M        17.99         10.38          122.80     1001.0   \n",
      "1    842517         M        20.57         17.77          132.90     1326.0   \n",
      "2  84300903         M        19.69         21.25          130.00     1203.0   \n",
      "3  84348301         M        11.42         20.38           77.58      386.1   \n",
      "4  84358402         M        20.29         14.34          135.10     1297.0   \n",
      "\n",
      "   smoothness_mean  compactness_mean  concavity_mean  concave points_mean  \\\n",
      "0          0.11840           0.27760          0.3001              0.14710   \n",
      "1          0.08474           0.07864          0.0869              0.07017   \n",
      "2          0.10960           0.15990          0.1974              0.12790   \n",
      "3          0.14250           0.28390          0.2414              0.10520   \n",
      "4          0.10030           0.13280          0.1980              0.10430   \n",
      "\n",
      "   ...  texture_worst  perimeter_worst  area_worst  smoothness_worst  \\\n",
      "0  ...          17.33           184.60      2019.0            0.1622   \n",
      "1  ...          23.41           158.80      1956.0            0.1238   \n",
      "2  ...          25.53           152.50      1709.0            0.1444   \n",
      "3  ...          26.50            98.87       567.7            0.2098   \n",
      "4  ...          16.67           152.20      1575.0            0.1374   \n",
      "\n",
      "   compactness_worst  concavity_worst  concave points_worst  symmetry_worst  \\\n",
      "0             0.6656           0.7119                0.2654          0.4601   \n",
      "1             0.1866           0.2416                0.1860          0.2750   \n",
      "2             0.4245           0.4504                0.2430          0.3613   \n",
      "3             0.8663           0.6869                0.2575          0.6638   \n",
      "4             0.2050           0.4000                0.1625          0.2364   \n",
      "\n",
      "   fractal_dimension_worst  Unnamed: 32  \n",
      "0                  0.11890          NaN  \n",
      "1                  0.08902          NaN  \n",
      "2                  0.08758          NaN  \n",
      "3                  0.17300          NaN  \n",
      "4                  0.07678          NaN  \n",
      "\n",
      "[5 rows x 33 columns]\n"
     ]
    }
   ],
   "source": [
    "import pandas as pd\n",
    "\n",
    "# Load the dataset\n",
    "file_path = \"C:\\Users\\prava\\Downloads\\Sadhuko\\SEM5\\ML\\data.csv\"\n",
    "data = pd.read_csv(file_path)\n",
    "\n",
    "# Display the first few rows of the dataset\n",
    "print(data.head())\n"
   ]
  },
  {
   "cell_type": "markdown",
   "id": "d45c1c1a-8f33-49e6-8664-e15f0dc2596e",
   "metadata": {},
   "source": [
    "## A1_a)"
   ]
  },
  {
   "cell_type": "code",
   "execution_count": 21,
   "id": "b03578c9-874c-489a-b72a-498b14a18215",
   "metadata": {},
   "outputs": [
    {
     "name": "stdout",
     "output_type": "stream",
     "text": [
      "Summation Output: 36.248\n"
     ]
    }
   ],
   "source": [
    "def summation(inputs, weights, bias):\n",
    "    return sum(i * w for i, w in zip(inputs, weights)) + bias\n",
    "\n",
    "# Example: Using first row of dataset for inputs\n",
    "weights = [0.2, -0.5, 0.3]  # Example weights\n",
    "bias = 1.0  # Example bias\n",
    "inputs = data[['radius_mean', 'texture_mean', 'perimeter_mean']].iloc[0].values\n",
    "output = summation(inputs, weights, bias)\n",
    "print(f\"Summation Output: {output}\")\n"
   ]
  },
  {
   "cell_type": "markdown",
   "id": "beff60ac-c303-4bfa-aad0-8185be6e84f4",
   "metadata": {},
   "source": [
    "## A1_b)"
   ]
  },
  {
   "cell_type": "code",
   "execution_count": 51,
   "id": "f7700369-9131-461b-a8a9-21900ac4cd72",
   "metadata": {},
   "outputs": [
    {
     "name": "stdout",
     "output_type": "stream",
     "text": [
      "Step Activation Output: 1\n",
      "Bipolar step Activation Output: 1\n",
      "Sigmoid Activation Output: 0.9999999999999998\n",
      "Tanh Activation Output: 1.0\n",
      "Relu Activation Output: 36.248\n",
      "Leaky Relu Activation Output: 36.248\n"
     ]
    }
   ],
   "source": [
    "import math\n",
    "\n",
    "# Step Function\n",
    "def step_function(x):\n",
    "    return 1 if x >= 0 else 0\n",
    "\n",
    "# Bipolar Step Function\n",
    "def bipolar_step_function(x):\n",
    "    return 1 if x >= 0 else -1\n",
    "\n",
    "# Sigmoid Function\n",
    "def sigmoid(x):\n",
    "    return 1 / (1 + math.exp(-x))\n",
    "\n",
    "# TanH Function\n",
    "def tanh(x):\n",
    "    return math.tanh(x)\n",
    "\n",
    "# ReLU Function\n",
    "def relu(x):\n",
    "    return max(0, x)\n",
    "\n",
    "# Leaky ReLU Function\n",
    "def leaky_relu(x, alpha=0.01):\n",
    "    return x if x >= 0 else alpha * x\n",
    "\n",
    "# Test activation functions using the summation result\n",
    "activation_step_function = step_function(output)\n",
    "print(f\"Step Activation Output: {activation_step_function}\")\n",
    "\n",
    "activation_bipolar_step_function = bipolar_step_function(output)\n",
    "print(f\"Bipolar step Activation Output: {activation_bipolar_step_function}\")\n",
    "\n",
    "activation_sigmoid = sigmoid(output)\n",
    "print(f\"Sigmoid Activation Output: {activation_sigmoid}\")\n",
    "\n",
    "activation_tanh = tanh(output)\n",
    "print(f\"Tanh Activation Output: {activation_tanh}\")\n",
    "\n",
    "activation_relu = relu(output)\n",
    "print(f\"Relu Activation Output: {activation_relu}\")\n",
    "\n",
    "activation_leaky_relu = leaky_relu(output)\n",
    "print(f\"Leaky Relu Activation Output: {activation_leaky_relu}\")\n",
    "\n"
   ]
  },
  {
   "cell_type": "markdown",
   "id": "6ed63b6b-df1a-4ca3-b0c4-7c66a0d42ab3",
   "metadata": {},
   "source": [
    "## A1_c)"
   ]
  },
  {
   "cell_type": "code",
   "execution_count": 54,
   "id": "28090cdb-ad3e-4719-bac3-1a590854df5f",
   "metadata": {},
   "outputs": [
    {
     "name": "stdout",
     "output_type": "stream",
     "text": [
      "Error: 0\n"
     ]
    }
   ],
   "source": [
    "# Comparator for Error Calculation\n",
    "def comparator(predicted, actual):\n",
    "    return actual - predicted\n",
    "\n",
    "# Example: Target = 1 (for Malignant)\n",
    "actual = 1  # Example target for Malignant\n",
    "predicted = step_function(output)\n",
    "error = comparator(predicted, actual)\n",
    "print(f\"Error: {error}\")\n"
   ]
  },
  {
   "cell_type": "markdown",
   "id": "6fc813a7-f424-40ec-94a2-727351344340",
   "metadata": {},
   "source": [
    "## A2"
   ]
  },
  {
   "cell_type": "code",
   "execution_count": 58,
   "id": "af47d521-c165-46e0-a7c5-a8cb97e3c262",
   "metadata": {},
   "outputs": [
    {
     "name": "stdout",
     "output_type": "stream",
     "text": [
      "Weights: [0.1000000000000001, 0.05000000000000032], Bias: -0.10000000000000765, Epochs to Converge: 129\n"
     ]
    }
   ],
   "source": [
    "# AND Gate Logic Example\n",
    "def perceptron_and(inputs, weights, bias, learning_rate=0.05, epochs=1000):\n",
    "    for epoch in range(epochs):\n",
    "        total_error = 0\n",
    "        for i in range(len(inputs)):\n",
    "            summation_output = summation(inputs[i], weights, bias)\n",
    "            predicted = step_function(summation_output)\n",
    "            error = comparator(predicted, inputs[i][-1])\n",
    "            total_error += error**2\n",
    "            # Update weights and bias\n",
    "            for j in range(len(weights)):\n",
    "                weights[j] += learning_rate * error * inputs[i][j]\n",
    "            bias += learning_rate * error\n",
    "        if total_error <= 0.002:  # Convergence criteria\n",
    "            break\n",
    "    return weights, bias, epoch\n",
    "\n",
    "# AND gate inputs\n",
    "and_gate_inputs = [[0, 0, 0], [0, 1, 0], [1, 0, 0], [1, 1, 1]]\n",
    "weights = [0.2, -0.75]  # Initial weights\n",
    "bias = 10  # Initial bias\n",
    "\n",
    "weights, bias, epochs_to_converge = perceptron_and(and_gate_inputs, weights, bias)\n",
    "print(f\"Weights: {weights}, Bias: {bias}, Epochs to Converge: {epochs_to_converge}\")\n"
   ]
  },
  {
   "cell_type": "markdown",
   "id": "209cbfa6-59f2-4022-b587-588e4174f018",
   "metadata": {},
   "source": [
    "## A3\n"
   ]
  },
  {
   "cell_type": "code",
   "execution_count": 61,
   "id": "a6e5e069-135f-41b1-b17e-ebc1df269455",
   "metadata": {},
   "outputs": [
    {
     "name": "stdout",
     "output_type": "stream",
     "text": [
      "Activation: step_function, Weights: [0.1000000000000001, 0.05000000000000032], Bias: -0.10000000000000765, Epochs: 129\n",
      "Activation: bipolar_step_function, Weights: [0.1000000000000001, 0.05000000000000032], Bias: -0.10000000000000765, Epochs: 999\n",
      "Activation: sigmoid, Weights: [4.269513023364578, 4.263876593860676], Bias: -6.58132321326526, Epochs: 999\n",
      "Activation: relu, Weights: [3.964458104504183, 3.9588216750002814], Bias: -6.886378132125656, Epochs: 19\n"
     ]
    }
   ],
   "source": [
    "# Repeat A1 with different activation functions and compare convergence times\n",
    "\n",
    "def perceptron_with_activation(inputs, weights, bias, activation_func, learning_rate=0.05, epochs=1000):\n",
    "    for epoch in range(epochs):\n",
    "        total_error = 0\n",
    "        for i in range(len(inputs)):\n",
    "            summation_output = summation(inputs[i], weights, bias)\n",
    "            predicted = activation_func(summation_output)\n",
    "            error = comparator(predicted, inputs[i][-1])\n",
    "            total_error += error**2\n",
    "            # Update weights and bias\n",
    "            for j in range(len(weights)):\n",
    "                weights[j] += learning_rate * error * inputs[i][j]\n",
    "            bias += learning_rate * error\n",
    "        if total_error <= 0.002:  # Convergence criteria\n",
    "            break\n",
    "    return weights, bias, epoch\n",
    "\n",
    "# Activation Functions for AND gate\n",
    "weights = [0.2, -0.75]\n",
    "bias = 10\n",
    "learning_rate = 0.05\n",
    "\n",
    "for activation in [step_function, bipolar_step_function, sigmoid, relu]:\n",
    "    weights, bias, epochs = perceptron_with_activation(and_gate_inputs, weights, bias, activation, learning_rate)\n",
    "    print(f\"Activation: {activation.__name__}, Weights: {weights}, Bias: {bias}, Epochs: {epochs}\")\n"
   ]
  },
  {
   "cell_type": "markdown",
   "id": "44e68541-a747-4354-88d8-5a6265d6cd59",
   "metadata": {},
   "source": [
    "## A4"
   ]
  },
  {
   "cell_type": "code",
   "execution_count": 66,
   "id": "24af85fa-6322-45c3-8c5b-b7ae741157ff",
   "metadata": {},
   "outputs": [
    {
     "data": {
      "image/png": "[encoded data removed]",
      "text/plain": [
       "<Figure size 640x480 with 1 Axes>"
      ]
     },
     "metadata": {},
     "output_type": "display_data"
    }
   ],
   "source": [
    "# Varying Learning Rate\n",
    "learning_rates = [0.1 * i for i in range(1, 11)]\n",
    "epochs_required = []\n",
    "\n",
    "for lr in learning_rates:\n",
    "    weights = [0.2, -0.75]\n",
    "    bias = 10\n",
    "    _, _, epochs = perceptron_and(and_gate_inputs, weights, bias, learning_rate=lr)\n",
    "    epochs_required.append(epochs)\n",
    "\n",
    "# Plot the learning rate vs epochs to converge\n",
    "import matplotlib.pyplot as plt\n",
    "\n",
    "plt.plot(learning_rates, epochs_required)\n",
    "plt.xlabel('Learning Rate')\n",
    "plt.ylabel('Epochs to Converge')\n",
    "plt.title('Learning Rate vs Epochs to Converge for AND Gate')\n",
    "plt.show()\n"
   ]
  },
  {
   "cell_type": "markdown",
   "id": "126dfaef-722c-44d2-9209-f696a2c1312d",
   "metadata": {},
   "source": [
    "## A5"
   ]
  },
  {
   "cell_type": "code",
   "execution_count": 68,
   "id": "12817610-39f6-42df-a2eb-a63063b003ac",
   "metadata": {},
   "outputs": [
    {
     "name": "stdout",
     "output_type": "stream",
     "text": [
      "Weights: [-0.1000000000000003, -0.10000000000000052], Bias: 0.09999999999999236, Epochs to Converge for XOR: 999\n"
     ]
    }
   ],
   "source": [
    "# XOR Gate Inputs\n",
    "xor_gate_inputs = [[0, 0, 0], [0, 1, 1], [1, 0, 1], [1, 1, 0]]\n",
    "\n",
    "# Repeat A1 for XOR gate\n",
    "weights, bias, epochs_to_converge = perceptron_and(xor_gate_inputs, weights, bias)\n",
    "print(f\"Weights: {weights}, Bias: {bias}, Epochs to Converge for XOR: {epochs_to_converge}\")\n"
   ]
  },
  {
   "cell_type": "markdown",
   "id": "31bb9f5f-ba70-42d6-a1a5-99b0f922120a",
   "metadata": {},
   "source": [
    "## A6"
   ]
  },
  {
   "cell_type": "code",
   "execution_count": 73,
   "id": "1415163f-ac43-444e-b6e2-d7adea78079b",
   "metadata": {},
   "outputs": [
    {
     "name": "stdout",
     "output_type": "stream",
     "text": [
      "Weights: [-1.3336535240217644, 8.843401928615727, -0.22341645496198342], Bias: 0.7969978472159969, Epochs to Converge for Customer Data: 127\n"
     ]
    }
   ],
   "source": [
    "# Customer Transaction Data\n",
    "customer_data = [\n",
    "    [20, 6, 2, 1], [16, 3, 6, 1], [27, 6, 2, 1], [19, 1, 2, 0], [24, 4, 2, 1],\n",
    "    [22, 1, 5, 0], [15, 4, 2, 1], [18, 4, 2, 1], [21, 1, 4, 0], [16, 2, 4, 0]\n",
    "]\n",
    "\n",
    "# Use Sigmoid Activation for Perceptron\n",
    "weights = [0.1, 0.2, -0.3]  # Example weights\n",
    "bias = 1.0  # Example bias\n",
    "\n",
    "weights, bias, epochs = perceptron_with_activation(customer_data, weights, bias, sigmoid, learning_rate=0.05)\n",
    "print(f\"Weights: {weights}, Bias: {bias}, Epochs to Converge for Customer Data: {epochs}\")\n"
   ]
  },
  {
   "cell_type": "markdown",
   "id": "48f1d339-dba8-4095-953e-e9adc88721ac",
   "metadata": {},
   "source": [
    "## A7"
   ]
  },
  {
   "cell_type": "code",
   "execution_count": 76,
   "id": "904825f3-23f7-4788-862f-476a805921a1",
   "metadata": {},
   "outputs": [
    {
     "name": "stdout",
     "output_type": "stream",
     "text": [
      "Pseudo-inverse Weights: [-0.0196597   0.26431172  0.04554979]\n"
     ]
    }
   ],
   "source": [
    "import numpy as np\n",
    "\n",
    "# Use pseudo-inverse to calculate weights\n",
    "X = np.array([row[:3] for row in customer_data])\n",
    "y = np.array([row[3] for row in customer_data])\n",
    "weights_pseudo = np.dot(np.linalg.pinv(X), y)\n",
    "print(f\"Pseudo-inverse Weights: {weights_pseudo}\")\n"
   ]
  },
  {
   "cell_type": "markdown",
   "id": "fcf28384-84f2-4418-8f3d-f0551d91b65b",
   "metadata": {},
   "source": [
    "## A8"
   ]
  },
  {
   "cell_type": "code",
   "execution_count": 78,
   "id": "14b2665b-aba4-4dfb-bbe3-9cb5f6e66de8",
   "metadata": {},
   "outputs": [
    {
     "name": "stdout",
     "output_type": "stream",
     "text": [
      "Weights (input to hidden): [[0.35426245 0.8739027 ]\n",
      " [0.70801885 0.5542541 ]]\n",
      "Weights (hidden to output): [[ 0.27351534]\n",
      " [-0.2888641 ]]\n",
      "Bias (hidden): [[0.09929775 1.15169996]]\n",
      "Bias (output): [[-0.94380849]]\n",
      "Epochs to converge: 999\n",
      "Final Output: [[0.26508702]\n",
      " [0.26909255]\n",
      " [0.26273347]\n",
      " [0.26811816]]\n"
     ]
    }
   ],
   "source": [
    "import numpy as np\n",
    "\n",
    "# Sigmoid activation and its derivative\n",
    "def sigmoid(x):\n",
    "    return 1 / (1 + np.exp(-x))\n",
    "\n",
    "def sigmoid_derivative(x):\n",
    "    return x * (1 - x)\n",
    "\n",
    "# AND gate inputs and outputs\n",
    "X = np.array([[0, 0], [0, 1], [1, 0], [1, 1]])  # Inputs\n",
    "y = np.array([[0], [0], [0], [1]])  # AND gate outputs\n",
    "\n",
    "# Initialize weights and bias for 2-layer neural network\n",
    "input_layer_neurons = X.shape[1]  # 2 inputs\n",
    "hidden_layer_neurons = 2  # 2 neurons in hidden layer\n",
    "output_neurons = 1  # 1 output (AND gate result)\n",
    "\n",
    "# Weights initialization\n",
    "np.random.seed(42)\n",
    "weights_input_hidden = np.random.uniform(size=(input_layer_neurons, hidden_layer_neurons))\n",
    "weights_hidden_output = np.random.uniform(size=(hidden_layer_neurons, output_neurons))\n",
    "bias_hidden = np.random.uniform(size=(1, hidden_layer_neurons))\n",
    "bias_output = np.random.uniform(size=(1, output_neurons))\n",
    "\n",
    "# Set learning rate and epochs\n",
    "learning_rate = 0.05\n",
    "epochs = 1000\n",
    "\n",
    "# Training the neural network\n",
    "for epoch in range(epochs):\n",
    "    # Forward propagation\n",
    "    hidden_layer_activation = np.dot(X, weights_input_hidden) + bias_hidden\n",
    "    hidden_layer_output = sigmoid(hidden_layer_activation)\n",
    "    \n",
    "    output_layer_activation = np.dot(hidden_layer_output, weights_hidden_output) + bias_output\n",
    "    predicted_output = sigmoid(output_layer_activation)\n",
    "    \n",
    "    # Calculate error (mean squared error)\n",
    "    error = y - predicted_output\n",
    "    \n",
    "    # Backpropagation\n",
    "    # Output layer\n",
    "    d_predicted_output = error * sigmoid_derivative(predicted_output)\n",
    "    \n",
    "    # Hidden layer\n",
    "    error_hidden_layer = d_predicted_output.dot(weights_hidden_output.T)\n",
    "    d_hidden_layer = error_hidden_layer * sigmoid_derivative(hidden_layer_output)\n",
    "    \n",
    "    # Updating weights and biases\n",
    "    weights_hidden_output += hidden_layer_output.T.dot(d_predicted_output) * learning_rate\n",
    "    bias_output += np.sum(d_predicted_output, axis=0, keepdims=True) * learning_rate\n",
    "    \n",
    "    weights_input_hidden += X.T.dot(d_hidden_layer) * learning_rate\n",
    "    bias_hidden += np.sum(d_hidden_layer, axis=0, keepdims=True) * learning_rate\n",
    "\n",
    "    # Stop if error is less than 0.002\n",
    "    if np.mean(np.square(error)) < 0.002:\n",
    "        break\n",
    "\n",
    "print(f\"Weights (input to hidden): {weights_input_hidden}\")\n",
    "print(f\"Weights (hidden to output): {weights_hidden_output}\")\n",
    "print(f\"Bias (hidden): {bias_hidden}\")\n",
    "print(f\"Bias (output): {bias_output}\")\n",
    "print(f\"Epochs to converge: {epoch}\")\n",
    "print(f\"Final Output: {predicted_output}\")\n"
   ]
  },
  {
   "cell_type": "markdown",
   "id": "19a3212b-09ed-4321-a9fc-295b3d613dd5",
   "metadata": {},
   "source": [
    "## A9"
   ]
  },
  {
   "cell_type": "code",
   "execution_count": 80,
   "id": "f8721fff-8111-4e87-81c1-60b3fd43398c",
   "metadata": {},
   "outputs": [
    {
     "name": "stdout",
     "output_type": "stream",
     "text": [
      "Weights (input to hidden): [[0.34703483 0.93399821]\n",
      " [0.71572701 0.56940489]]\n",
      "Weights (hidden to output): [[-0.08130154]\n",
      " [ 0.01564564]]\n",
      "Bias (hidden): [[0.04784409 0.8718028 ]]\n",
      "Bias (output): [[0.05096991]]\n",
      "Epochs to converge: 999\n",
      "Final Output: [[0.5051003 ]\n",
      " [0.50204167]\n",
      " [0.50395685]\n",
      " [0.50102738]]\n"
     ]
    }
   ],
   "source": [
    "# XOR gate inputs and outputs\n",
    "X = np.array([[0, 0], [0, 1], [1, 0], [1, 1]])  # Inputs\n",
    "y = np.array([[0], [1], [1], [0]])  # XOR gate outputs\n",
    "\n",
    "# Initialize weights and biases (same as before)\n",
    "input_layer_neurons = X.shape[1]  # 2 inputs\n",
    "hidden_layer_neurons = 2  # 2 neurons in hidden layer\n",
    "output_neurons = 1  # 1 output (XOR gate result)\n",
    "\n",
    "# Reinitialize weights for XOR gate\n",
    "np.random.seed(42)\n",
    "weights_input_hidden = np.random.uniform(size=(input_layer_neurons, hidden_layer_neurons))\n",
    "weights_hidden_output = np.random.uniform(size=(hidden_layer_neurons, output_neurons))\n",
    "bias_hidden = np.random.uniform(size=(1, hidden_layer_neurons))\n",
    "bias_output = np.random.uniform(size=(1, output_neurons))\n",
    "\n",
    "# Training the neural network\n",
    "for epoch in range(epochs):\n",
    "    # Forward propagation\n",
    "    hidden_layer_activation = np.dot(X, weights_input_hidden) + bias_hidden\n",
    "    hidden_layer_output = sigmoid(hidden_layer_activation)\n",
    "    \n",
    "    output_layer_activation = np.dot(hidden_layer_output, weights_hidden_output) + bias_output\n",
    "    predicted_output = sigmoid(output_layer_activation)\n",
    "    \n",
    "    # Calculate error\n",
    "    error = y - predicted_output\n",
    "    \n",
    "    # Backpropagation\n",
    "    d_predicted_output = error * sigmoid_derivative(predicted_output)\n",
    "    \n",
    "    error_hidden_layer = d_predicted_output.dot(weights_hidden_output.T)\n",
    "    d_hidden_layer = error_hidden_layer * sigmoid_derivative(hidden_layer_output)\n",
    "    \n",
    "    # Updating weights and biases\n",
    "    weights_hidden_output += hidden_layer_output.T.dot(d_predicted_output) * learning_rate\n",
    "    bias_output += np.sum(d_predicted_output, axis=0, keepdims=True) * learning_rate\n",
    "    \n",
    "    weights_input_hidden += X.T.dot(d_hidden_layer) * learning_rate\n",
    "    bias_hidden += np.sum(d_hidden_layer, axis=0, keepdims=True) * learning_rate\n",
    "\n",
    "    # Stop if error is less than 0.002\n",
    "    if np.mean(np.square(error)) < 0.002:\n",
    "        break\n",
    "\n",
    "print(f\"Weights (input to hidden): {weights_input_hidden}\")\n",
    "print(f\"Weights (hidden to output): {weights_hidden_output}\")\n",
    "print(f\"Bias (hidden): {bias_hidden}\")\n",
    "print(f\"Bias (output): {bias_output}\")\n",
    "print(f\"Epochs to converge: {epoch}\")\n",
    "print(f\"Final Output: {predicted_output}\")\n"
   ]
  },
  {
   "cell_type": "markdown",
   "id": "bb1bd9b5-3d22-47df-8529-3bd80e28521c",
   "metadata": {},
   "source": [
    "## A10"
   ]
  },
  {
   "cell_type": "code",
   "execution_count": 82,
   "id": "e80b20c5-a2b3-4c26-a300-c6abbe5d3435",
   "metadata": {},
   "outputs": [
    {
     "name": "stdout",
     "output_type": "stream",
     "text": [
      "Weights (input to hidden): [[0.19586171 1.07885866]\n",
      " [0.6572288  0.81684909]]\n",
      "Weights (hidden to output): [[ 0.10516791 -0.46237367]\n",
      " [-0.24712274  0.45573103]]\n",
      "Bias (hidden): [[0.62252522 0.61181735]]\n",
      "Bias (output): [[ 0.10637225 -0.01156423]]\n",
      "Epochs to converge: 999\n",
      "Final Output: [[0.50363583 0.49576632]\n",
      " [0.49732778 0.49857474]\n",
      " [0.49268088 0.51308418]\n",
      " [0.49087705 0.50836344]]\n"
     ]
    }
   ],
   "source": [
    "# XOR gate inputs\n",
    "X = np.array([[0, 0], [0, 1], [1, 0], [1, 1]])  # Inputs\n",
    "y = np.array([[1, 0], [0, 1], [0, 1], [1, 0]])  # XOR gate outputs with 2 nodes\n",
    "\n",
    "# Initialize weights and biases for a 2-output perceptron\n",
    "input_layer_neurons = X.shape[1]  # 2 inputs\n",
    "hidden_layer_neurons = 2  # 2 neurons in hidden layer\n",
    "output_neurons = 2  # 2 outputs\n",
    "\n",
    "# Reinitialize weights and biases\n",
    "np.random.seed(42)\n",
    "weights_input_hidden = np.random.uniform(size=(input_layer_neurons, hidden_layer_neurons))\n",
    "weights_hidden_output = np.random.uniform(size=(hidden_layer_neurons, output_neurons))\n",
    "bias_hidden = np.random.uniform(size=(1, hidden_layer_neurons))\n",
    "bias_output = np.random.uniform(size=(1, output_neurons))\n",
    "\n",
    "# Training the neural network\n",
    "for epoch in range(epochs):\n",
    "    # Forward propagation\n",
    "    hidden_layer_activation = np.dot(X, weights_input_hidden) + bias_hidden\n",
    "    hidden_layer_output = sigmoid(hidden_layer_activation)\n",
    "    \n",
    "    output_layer_activation = np.dot(hidden_layer_output, weights_hidden_output) + bias_output\n",
    "    predicted_output = sigmoid(output_layer_activation)\n",
    "    \n",
    "    # Calculate error\n",
    "    error = y - predicted_output\n",
    "    \n",
    "    # Backpropagation\n",
    "    d_predicted_output = error * sigmoid_derivative(predicted_output)\n",
    "    \n",
    "    error_hidden_layer = d_predicted_output.dot(weights_hidden_output.T)\n",
    "    d_hidden_layer = error_hidden_layer * sigmoid_derivative(hidden_layer_output)\n",
    "    \n",
    "    # Updating weights and biases\n",
    "    weights_hidden_output += hidden_layer_output.T.dot(d_predicted_output) * learning_rate\n",
    "    bias_output += np.sum(d_predicted_output, axis=0, keepdims=True) * learning_rate\n",
    "    \n",
    "    weights_input_hidden += X.T.dot(d_hidden_layer) * learning_rate\n",
    "    bias_hidden += np.sum(d_hidden_layer, axis=0, keepdims=True) * learning_rate\n",
    "\n",
    "    # Stop if error is less than 0.002\n",
    "    if np.mean(np.square(error)) < 0.002:\n",
    "        break\n",
    "\n",
    "print(f\"Weights (input to hidden): {weights_input_hidden}\")\n",
    "print(f\"Weights (hidden to output): {weights_hidden_output}\")\n",
    "print(f\"Bias (hidden): {bias_hidden}\")\n",
    "print(f\"Bias (output): {bias_output}\")\n",
    "print(f\"Epochs to converge: {epoch}\")\n",
    "print(f\"Final Output: {predicted_output}\")\n"
   ]
  },
  {
   "cell_type": "markdown",
   "id": "130bdd5c-d4ef-4edc-ab42-3467212389ec",
   "metadata": {},
   "source": [
    "## A11"
   ]
  },
  {
   "cell_type": "code",
   "execution_count": 88,
   "id": "262e760c-14d8-4937-922a-c08ae29b693f",
   "metadata": {},
   "outputs": [
    {
     "name": "stdout",
     "output_type": "stream",
     "text": [
      "AND Gate Predictions: [0 0 0 0]\n",
      "Accuracy for AND Gate: 0.75\n",
      "XOR Gate Predictions: [1 1 1 1]\n",
      "Accuracy for XOR Gate: 0.5\n"
     ]
    },
    {
     "name": "stderr",
     "output_type": "stream",
     "text": [
      "C:\\Users\\bhesh\\anaconda3\\Lib\\site-packages\\sklearn\\neural_network\\_multilayer_perceptron.py:686: ConvergenceWarning: Stochastic Optimizer: Maximum iterations (1000) reached and the optimization hasn't converged yet.\n",
      "  warnings.warn(\n"
     ]
    }
   ],
   "source": [
    "from sklearn.neural_network import MLPClassifier\n",
    "from sklearn.metrics import accuracy_score\n",
    "\n",
    "# AND gate inputs and outputs\n",
    "X_and = np.array([[0, 0], [0, 1], [1, 0], [1, 1]])\n",
    "y_and = np.array([0, 0, 0, 1])  # AND gate outputs\n",
    "\n",
    "# XOR gate inputs and outputs\n",
    "X_xor = np.array([[0, 0], [0, 1], [1, 0], [1, 1]])\n",
    "y_xor = np.array([0, 1, 1, 0])  # XOR gate outputs\n",
    "\n",
    "# MLPClassifier for AND gate\n",
    "mlp_and = MLPClassifier(hidden_layer_sizes=(2,), activation='logistic', max_iter=1000)\n",
    "mlp_and.fit(X_and, y_and)\n",
    "y_and_pred = mlp_and.predict(X_and)\n",
    "print(f\"AND Gate Predictions: {y_and_pred}\")\n",
    "print(f\"Accuracy for AND Gate: {accuracy_score(y_and, y_and_pred)}\")\n",
    "\n",
    "# MLPClassifier for XOR gate\n",
    "mlp_xor = MLPClassifier(hidden_layer_sizes=(2,), activation='logistic', max_iter=1000)\n",
    "mlp_xor.fit(X_xor, y_xor)\n",
    "y_xor_pred = mlp_xor.predict(X_xor)\n",
    "print(f\"XOR Gate Predictions: {y_xor_pred}\")\n",
    "print(f\"Accuracy for XOR Gate: {accuracy_score(y_xor, y_xor_pred)}\")\n"
   ]
  },
  {
   "cell_type": "markdown",
   "id": "f85bdad2-99de-4ebf-85b3-91b6993d2232",
   "metadata": {},
   "source": [
    "## A12"
   ]
  },
  {
   "cell_type": "code",
   "execution_count": 91,
   "id": "0dfdef38-dce9-48a6-bde9-5d6b27061b5d",
   "metadata": {},
   "outputs": [
    {
     "name": "stdout",
     "output_type": "stream",
     "text": [
      "Accuracy on Project Dataset: 0.8980667838312829\n"
     ]
    },
    {
     "name": "stderr",
     "output_type": "stream",
     "text": [
      "C:\\Users\\bhesh\\anaconda3\\Lib\\site-packages\\sklearn\\neural_network\\_multilayer_perceptron.py:686: ConvergenceWarning: Stochastic Optimizer: Maximum iterations (1000) reached and the optimization hasn't converged yet.\n",
      "  warnings.warn(\n"
     ]
    }
   ],
   "source": [
    "# Prepare the data\n",
    "X_project = data[['radius_mean', 'texture_mean', 'perimeter_mean']]  # Example features\n",
    "y_project = (data['diagnosis'] == 'M').astype(int)  # Binary classification: Malignant (1), Benign (0)\n",
    "\n",
    "# Initialize the MLPClassifier\n",
    "mlp_project = MLPClassifier(hidden_layer_sizes=(10,), activation='logistic', max_iter=1000)\n",
    "\n",
    "# Fit the model\n",
    "mlp_project.fit(X_project, y_project)\n",
    "\n",
    "# Predict on the same dataset\n",
    "y_project_pred = mlp_project.predict(X_project)\n",
    "\n",
    "# Calculate accuracy\n",
    "accuracy = accuracy_score(y_project, y_project_pred)\n",
    "print(f\"Accuracy on Project Dataset: {accuracy}\")\n"
   ]
  }
 ],
 "metadata": {
  "kernelspec": {
   "display_name": "Python 3 (ipykernel)",
   "language": "python",
   "name": "python3"
  },
  "language_info": {
   "codemirror_mode": {
    "name": "ipython",
    "version": 3
   },
   "file_extension": ".py",
   "mimetype": "text/x-python",
   "name": "python",
   "nbconvert_exporter": "python",
   "pygments_lexer": "ipython3",
   "version": "3.12.4"
  }
 },
 "nbformat": 4,
 "nbformat_minor": 5
}
