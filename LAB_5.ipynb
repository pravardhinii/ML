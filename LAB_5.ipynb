{
 "cells": [
  {
   "cell_type": "code",
   "execution_count": 1,
   "id": "b58b5a46-3c62-4b91-a9f6-3da42c0aa6f6",
   "metadata": {},
   "outputs": [
    {
     "name": "stdout",
     "output_type": "stream",
     "text": [
      "Model trained successfully.\n"
     ]
    }
   ],
   "source": [
    "import pandas as pd\n",
    "from sklearn.linear_model import LinearRegression\n",
    "from sklearn.model_selection import train_test_split\n",
    "from sklearn.metrics import mean_squared_error, mean_absolute_percentage_error, r2_score\n",
    "import numpy as np\n",
    "\n",
    "# Load the dataset\n",
    "file_path = r\"C:\\Users\\prava\\Downloads\\Sadhuko\\SEM5\\ML\\data.csv\"\n",
    "data = pd.read_csv(file_path)\n",
    "\n",
    "# Select a feature column and the target column (diagnosis)\n",
    "# Assuming 'diagnosis' is the target column and 'area_mean' is one of the features\n",
    "X = data[['area_mean']]  # Feature column\n",
    "y = data['diagnosis'].map({'M': 1, 'B': 0})  # Mapping diagnosis to numeric values\n",
    "\n",
    "# Split the data into training and testing sets\n",
    "X_train, X_test, y_train, y_test = train_test_split(X, y, test_size=0.2, random_state=42)\n",
    "\n",
    "# Train the model\n",
    "reg = LinearRegression().fit(X_train, y_train)\n",
    "\n",
    "# Predict on training data\n",
    "y_train_pred = reg.predict(X_train)\n",
    "\n",
    "print(\"Model trained successfully.\")\n"
   ]
  },
  {
   "cell_type": "code",
   "execution_count": 2,
   "id": "0e36b5fb-dc6b-422b-890d-93e1473d858f",
   "metadata": {},
   "outputs": [
    {
     "name": "stdout",
     "output_type": "stream",
     "text": [
      "Training MSE: 0.12064237040188491, RMSE: 0.3473361058137851, MAPE: 555788762863164.56, R2: 0.4832625743275907\n",
      "Test MSE: 0.09924502425436821, RMSE: 0.3150317829273234, MAPE: 525491887389714.5, R2: 0.5775341188307339\n"
     ]
    }
   ],
   "source": [
    "# Calculate metrics for the training set\n",
    "mse_train = mean_squared_error(y_train, y_train_pred)\n",
    "rmse_train = np.sqrt(mse_train)\n",
    "mape_train = mean_absolute_percentage_error(y_train, y_train_pred)\n",
    "r2_train = r2_score(y_train, y_train_pred)\n",
    "\n",
    "# Predict on test data\n",
    "y_test_pred = reg.predict(X_test)\n",
    "\n",
    "# Calculate metrics for the test set\n",
    "mse_test = mean_squared_error(y_test, y_test_pred)\n",
    "rmse_test = np.sqrt(mse_test)\n",
    "mape_test = mean_absolute_percentage_error(y_test, y_test_pred)\n",
    "r2_test = r2_score(y_test, y_test_pred)\n",
    "\n",
    "print(f\"Training MSE: {mse_train}, RMSE: {rmse_train}, MAPE: {mape_train}, R2: {r2_train}\")\n",
    "print(f\"Test MSE: {mse_test}, RMSE: {rmse_test}, MAPE: {mape_test}, R2: {r2_test}\")\n"
   ]
  },
  {
   "cell_type": "code",
   "execution_count": 3,
   "id": "5e6b9bbc-bff7-40b6-b252-a3721d43f461",
   "metadata": {},
   "outputs": [
    {
     "name": "stdout",
     "output_type": "stream",
     "text": [
      "Training MSE: 0.051580781492114904, RMSE: 0.22711402751066456, MAPE: 417509529517655.2, R2: 0.7790683310215357\n",
      "Test MSE: 0.06402707095911189, RMSE: 0.2530357108376442, MAPE: 452209325576603.8, R2: 0.7274497824485364\n"
     ]
    }
   ],
   "source": [
    "# Use all columns except 'diagnosis' as features\n",
    "X = data.drop(columns=['diagnosis', 'Unnamed: 32'])  # Drop target and any unnecessary columns\n",
    "y = data['diagnosis'].map({'M': 1, 'B': 0})\n",
    "\n",
    "# Split the data into training and testing sets\n",
    "X_train, X_test, y_train, y_test = train_test_split(X, y, test_size=0.2, random_state=42)\n",
    "\n",
    "# Train the model\n",
    "reg = LinearRegression().fit(X_train, y_train)\n",
    "\n",
    "# Predict on training data\n",
    "y_train_pred = reg.predict(X_train)\n",
    "\n",
    "# Predict on test data\n",
    "y_test_pred = reg.predict(X_test)\n",
    "\n",
    "# Reuse the code from A2 to calculate metrics\n",
    "# Calculate metrics for the training set\n",
    "mse_train = mean_squared_error(y_train, y_train_pred)\n",
    "rmse_train = np.sqrt(mse_train)\n",
    "mape_train = mean_absolute_percentage_error(y_train, y_train_pred)\n",
    "r2_train = r2_score(y_train, y_train_pred)\n",
    "\n",
    "# Predict on test data\n",
    "y_test_pred = reg.predict(X_test)\n",
    "\n",
    "# Calculate metrics for the test set\n",
    "mse_test = mean_squared_error(y_test, y_test_pred)\n",
    "rmse_test = np.sqrt(mse_test)\n",
    "mape_test = mean_absolute_percentage_error(y_test, y_test_pred)\n",
    "r2_test = r2_score(y_test, y_test_pred)\n",
    "\n",
    "print(f\"Training MSE: {mse_train}, RMSE: {rmse_train}, MAPE: {mape_train}, R2: {r2_train}\")\n",
    "print(f\"Test MSE: {mse_test}, RMSE: {rmse_test}, MAPE: {mape_test}, R2: {r2_test}\")\n",
    "\n"
   ]
  },
  {
   "cell_type": "code",
   "execution_count": 4,
   "id": "b9657a85-50dc-4c44-adcc-39077268303d",
   "metadata": {},
   "outputs": [
    {
     "name": "stdout",
     "output_type": "stream",
     "text": [
      "K-means clustering completed.\n",
      "Cluster centers: [[1.32956424e+07 1.40983226e+01 1.92468100e+01 9.17756272e+01\n",
      "  6.50778136e+02 9.63991577e-02 1.04448710e-01 8.83498149e-02\n",
      "  4.87645072e-02 1.81283871e-01 6.28463978e-02 3.99921505e-01\n",
      "  1.21593065e+00 2.82884892e+00 3.92629534e+01 6.99007527e-03\n",
      "  2.53898315e-02 3.16334977e-02 1.17239606e-02 2.05425233e-02\n",
      "  3.78435717e-03 1.62267330e+01 2.56429391e+01 1.06975161e+02\n",
      "  8.73434229e+02 1.32368817e-01 2.54764229e-01 2.71883416e-01\n",
      "  1.14457063e-01 2.90582258e-01 8.40534409e-02]\n",
      " [8.96600329e+08 1.55968182e+01 2.14627273e+01 1.01780000e+02\n",
      "  8.63427273e+02 9.43881818e-02 9.88763636e-02 1.11601273e-01\n",
      "  5.67635455e-02 1.74972727e-01 6.03227273e-02 6.71518182e-01\n",
      "  1.26366364e+00 4.75363636e+00 9.48245455e+01 9.62318182e-03\n",
      "  2.99577273e-02 4.50939000e-02 1.54574545e-02 2.05309091e-02\n",
      "  4.32990909e-03 1.84229091e+01 2.74163636e+01 1.21771818e+02\n",
      "  1.24322727e+03 1.32357273e-01 2.28942727e-01 2.87663727e-01\n",
      "  1.22172727e-01 2.64372727e-01 7.84863636e-02]]\n"
     ]
    },
    {
     "name": "stderr",
     "output_type": "stream",
     "text": [
      "c:\\Users\\prava\\Downloads\\Chettha\\New folder\\Lib\\site-packages\\sklearn\\cluster\\_kmeans.py:1446: UserWarning: KMeans is known to have a memory leak on Windows with MKL, when there are less chunks than available threads. You can avoid it by setting the environment variable OMP_NUM_THREADS=3.\n",
      "  warnings.warn(\n"
     ]
    }
   ],
   "source": [
    "from sklearn.cluster import KMeans\n",
    "\n",
    "# Use all columns except 'diagnosis' for clustering\n",
    "X = data.drop(columns=['diagnosis', 'Unnamed: 32'])\n",
    "\n",
    "# Perform K-means clustering with k=2\n",
    "kmeans = KMeans(n_clusters=2, random_state=0, n_init=\"auto\").fit(X)\n",
    "\n",
    "# Get cluster labels and centers\n",
    "labels = kmeans.labels_\n",
    "centers = kmeans.cluster_centers_\n",
    "\n",
    "print(\"K-means clustering completed.\")\n",
    "print(\"Cluster centers:\", centers)\n"
   ]
  },
  {
   "cell_type": "code",
   "execution_count": 5,
   "id": "148b7f5e-77d2-4a4a-82cf-ec93280e4c8f",
   "metadata": {},
   "outputs": [
    {
     "name": "stdout",
     "output_type": "stream",
     "text": [
      "Silhouette Score: 0.9753276628229737\n",
      "CH Score: 10344.154673193765\n",
      "Davies-Bouldin Index: 0.038293779040724826\n"
     ]
    },
    {
     "name": "stderr",
     "output_type": "stream",
     "text": [
      "c:\\Users\\prava\\Downloads\\Chettha\\New folder\\Lib\\site-packages\\sklearn\\cluster\\_kmeans.py:1446: UserWarning: KMeans is known to have a memory leak on Windows with MKL, when there are less chunks than available threads. You can avoid it by setting the environment variable OMP_NUM_THREADS=3.\n",
      "  warnings.warn(\n"
     ]
    }
   ],
   "source": [
    "from sklearn.cluster import KMeans\n",
    "from sklearn.metrics import silhouette_score, calinski_harabasz_score, davies_bouldin_score\n",
    "\n",
    "# Load your dataset and preprocess it (assuming the data is already loaded)\n",
    "X = data.drop(columns=['diagnosis', 'Unnamed: 32'])  # Exclude the target and unnecessary columns\n",
    "\n",
    "# Train the k-means model with 2 clusters (for example)\n",
    "kmeans = KMeans(n_clusters=2, random_state=42, n_init=\"auto\").fit(X)\n",
    "\n",
    "# Calculate the Silhouette Score, CH Score, and DB Index\n",
    "sil_score = silhouette_score(X, kmeans.labels_)\n",
    "ch_score = calinski_harabasz_score(X, kmeans.labels_)\n",
    "db_score = davies_bouldin_score(X, kmeans.labels_)\n",
    "\n",
    "# Print the results\n",
    "print(f\"Silhouette Score: {sil_score}\")\n",
    "print(f\"CH Score: {ch_score}\")\n",
    "print(f\"Davies-Bouldin Index: {db_score}\")\n"
   ]
  },
  {
   "cell_type": "code",
   "execution_count": 6,
   "id": "c8971c6d-d504-4b19-8307-cb6b92f493c9",
   "metadata": {},
   "outputs": [
    {
     "name": "stderr",
     "output_type": "stream",
     "text": [
      "c:\\Users\\prava\\Downloads\\Chettha\\New folder\\Lib\\site-packages\\sklearn\\cluster\\_kmeans.py:1446: UserWarning: KMeans is known to have a memory leak on Windows with MKL, when there are less chunks than available threads. You can avoid it by setting the environment variable OMP_NUM_THREADS=3.\n",
      "  warnings.warn(\n",
      "c:\\Users\\prava\\Downloads\\Chettha\\New folder\\Lib\\site-packages\\sklearn\\cluster\\_kmeans.py:1446: UserWarning: KMeans is known to have a memory leak on Windows with MKL, when there are less chunks than available threads. You can avoid it by setting the environment variable OMP_NUM_THREADS=3.\n",
      "  warnings.warn(\n",
      "c:\\Users\\prava\\Downloads\\Chettha\\New folder\\Lib\\site-packages\\sklearn\\cluster\\_kmeans.py:1446: UserWarning: KMeans is known to have a memory leak on Windows with MKL, when there are less chunks than available threads. You can avoid it by setting the environment variable OMP_NUM_THREADS=3.\n",
      "  warnings.warn(\n",
      "c:\\Users\\prava\\Downloads\\Chettha\\New folder\\Lib\\site-packages\\sklearn\\cluster\\_kmeans.py:1446: UserWarning: KMeans is known to have a memory leak on Windows with MKL, when there are less chunks than available threads. You can avoid it by setting the environment variable OMP_NUM_THREADS=3.\n",
      "  warnings.warn(\n",
      "c:\\Users\\prava\\Downloads\\Chettha\\New folder\\Lib\\site-packages\\sklearn\\cluster\\_kmeans.py:1446: UserWarning: KMeans is known to have a memory leak on Windows with MKL, when there are less chunks than available threads. You can avoid it by setting the environment variable OMP_NUM_THREADS=3.\n",
      "  warnings.warn(\n",
      "c:\\Users\\prava\\Downloads\\Chettha\\New folder\\Lib\\site-packages\\sklearn\\cluster\\_kmeans.py:1446: UserWarning: KMeans is known to have a memory leak on Windows with MKL, when there are less chunks than available threads. You can avoid it by setting the environment variable OMP_NUM_THREADS=3.\n",
      "  warnings.warn(\n",
      "c:\\Users\\prava\\Downloads\\Chettha\\New folder\\Lib\\site-packages\\sklearn\\cluster\\_kmeans.py:1446: UserWarning: KMeans is known to have a memory leak on Windows with MKL, when there are less chunks than available threads. You can avoid it by setting the environment variable OMP_NUM_THREADS=3.\n",
      "  warnings.warn(\n",
      "c:\\Users\\prava\\Downloads\\Chettha\\New folder\\Lib\\site-packages\\sklearn\\cluster\\_kmeans.py:1446: UserWarning: KMeans is known to have a memory leak on Windows with MKL, when there are less chunks than available threads. You can avoid it by setting the environment variable OMP_NUM_THREADS=3.\n",
      "  warnings.warn(\n",
      "c:\\Users\\prava\\Downloads\\Chettha\\New folder\\Lib\\site-packages\\sklearn\\cluster\\_kmeans.py:1446: UserWarning: KMeans is known to have a memory leak on Windows with MKL, when there are less chunks than available threads. You can avoid it by setting the environment variable OMP_NUM_THREADS=3.\n",
      "  warnings.warn(\n"
     ]
    },
    {
     "name": "stdout",
     "output_type": "stream",
     "text": [
      "    k  silhouette      ch_score  db_score\n",
      "0   2    0.975328  1.034415e+04  0.038294\n",
      "1   3    0.966819  2.912509e+05  0.042527\n",
      "2   4    0.963715  2.803553e+05  0.169273\n",
      "3   5    0.973463  1.908270e+06  0.134187\n",
      "4   6    0.928782  2.534904e+06  0.280867\n",
      "5   7    0.930313  3.401974e+06  0.237410\n",
      "6   8    0.932266  4.974011e+06  0.141144\n",
      "7   9    0.937692  9.717063e+06  0.151160\n",
      "8  10    0.930086  1.375457e+07  0.139392\n"
     ]
    }
   ],
   "source": [
    "import pandas as pd\n",
    "\n",
    "# Define a dictionary to store the scores for different k values\n",
    "scores = {'k': [], 'silhouette': [], 'ch_score': [], 'db_score': []}\n",
    "\n",
    "for k in range(2, 11):  # Adjust range as needed\n",
    "    kmeans = KMeans(n_clusters=k, random_state=42, n_init=\"auto\").fit(X)\n",
    "    labels = kmeans.labels_\n",
    "\n",
    "    # Store the scores for each k\n",
    "    scores['k'].append(k)\n",
    "    scores['silhouette'].append(silhouette_score(X, labels))\n",
    "    scores['ch_score'].append(calinski_harabasz_score(X, labels))\n",
    "    scores['db_score'].append(davies_bouldin_score(X, labels))\n",
    "\n",
    "# Convert the scores to a DataFrame for easier viewing and plotting\n",
    "scores_df = pd.DataFrame(scores)\n",
    "print(scores_df)\n"
   ]
  },
  {
   "cell_type": "code",
   "execution_count": 7,
   "id": "fea15497-4786-4e9f-8b84-864b508f9b41",
   "metadata": {},
   "outputs": [
    {
     "name": "stderr",
     "output_type": "stream",
     "text": [
      "c:\\Users\\prava\\Downloads\\Chettha\\New folder\\Lib\\site-packages\\sklearn\\cluster\\_kmeans.py:1446: UserWarning: KMeans is known to have a memory leak on Windows with MKL, when there are less chunks than available threads. You can avoid it by setting the environment variable OMP_NUM_THREADS=3.\n",
      "  warnings.warn(\n",
      "c:\\Users\\prava\\Downloads\\Chettha\\New folder\\Lib\\site-packages\\sklearn\\cluster\\_kmeans.py:1446: UserWarning: KMeans is known to have a memory leak on Windows with MKL, when there are less chunks than available threads. You can avoid it by setting the environment variable OMP_NUM_THREADS=3.\n",
      "  warnings.warn(\n",
      "c:\\Users\\prava\\Downloads\\Chettha\\New folder\\Lib\\site-packages\\sklearn\\cluster\\_kmeans.py:1446: UserWarning: KMeans is known to have a memory leak on Windows with MKL, when there are less chunks than available threads. You can avoid it by setting the environment variable OMP_NUM_THREADS=3.\n",
      "  warnings.warn(\n",
      "c:\\Users\\prava\\Downloads\\Chettha\\New folder\\Lib\\site-packages\\sklearn\\cluster\\_kmeans.py:1446: UserWarning: KMeans is known to have a memory leak on Windows with MKL, when there are less chunks than available threads. You can avoid it by setting the environment variable OMP_NUM_THREADS=3.\n",
      "  warnings.warn(\n",
      "c:\\Users\\prava\\Downloads\\Chettha\\New folder\\Lib\\site-packages\\sklearn\\cluster\\_kmeans.py:1446: UserWarning: KMeans is known to have a memory leak on Windows with MKL, when there are less chunks than available threads. You can avoid it by setting the environment variable OMP_NUM_THREADS=3.\n",
      "  warnings.warn(\n",
      "c:\\Users\\prava\\Downloads\\Chettha\\New folder\\Lib\\site-packages\\sklearn\\cluster\\_kmeans.py:1446: UserWarning: KMeans is known to have a memory leak on Windows with MKL, when there are less chunks than available threads. You can avoid it by setting the environment variable OMP_NUM_THREADS=3.\n",
      "  warnings.warn(\n",
      "c:\\Users\\prava\\Downloads\\Chettha\\New folder\\Lib\\site-packages\\sklearn\\cluster\\_kmeans.py:1446: UserWarning: KMeans is known to have a memory leak on Windows with MKL, when there are less chunks than available threads. You can avoid it by setting the environment variable OMP_NUM_THREADS=3.\n",
      "  warnings.warn(\n",
      "c:\\Users\\prava\\Downloads\\Chettha\\New folder\\Lib\\site-packages\\sklearn\\cluster\\_kmeans.py:1446: UserWarning: KMeans is known to have a memory leak on Windows with MKL, when there are less chunks than available threads. You can avoid it by setting the environment variable OMP_NUM_THREADS=3.\n",
      "  warnings.warn(\n",
      "c:\\Users\\prava\\Downloads\\Chettha\\New folder\\Lib\\site-packages\\sklearn\\cluster\\_kmeans.py:1446: UserWarning: KMeans is known to have a memory leak on Windows with MKL, when there are less chunks than available threads. You can avoid it by setting the environment variable OMP_NUM_THREADS=3.\n",
      "  warnings.warn(\n",
      "c:\\Users\\prava\\Downloads\\Chettha\\New folder\\Lib\\site-packages\\sklearn\\cluster\\_kmeans.py:1446: UserWarning: KMeans is known to have a memory leak on Windows with MKL, when there are less chunks than available threads. You can avoid it by setting the environment variable OMP_NUM_THREADS=3.\n",
      "  warnings.warn(\n",
      "c:\\Users\\prava\\Downloads\\Chettha\\New folder\\Lib\\site-packages\\sklearn\\cluster\\_kmeans.py:1446: UserWarning: KMeans is known to have a memory leak on Windows with MKL, when there are less chunks than available threads. You can avoid it by setting the environment variable OMP_NUM_THREADS=3.\n",
      "  warnings.warn(\n",
      "c:\\Users\\prava\\Downloads\\Chettha\\New folder\\Lib\\site-packages\\sklearn\\cluster\\_kmeans.py:1446: UserWarning: KMeans is known to have a memory leak on Windows with MKL, when there are less chunks than available threads. You can avoid it by setting the environment variable OMP_NUM_THREADS=3.\n",
      "  warnings.warn(\n",
      "c:\\Users\\prava\\Downloads\\Chettha\\New folder\\Lib\\site-packages\\sklearn\\cluster\\_kmeans.py:1446: UserWarning: KMeans is known to have a memory leak on Windows with MKL, when there are less chunks than available threads. You can avoid it by setting the environment variable OMP_NUM_THREADS=3.\n",
      "  warnings.warn(\n",
      "c:\\Users\\prava\\Downloads\\Chettha\\New folder\\Lib\\site-packages\\sklearn\\cluster\\_kmeans.py:1446: UserWarning: KMeans is known to have a memory leak on Windows with MKL, when there are less chunks than available threads. You can avoid it by setting the environment variable OMP_NUM_THREADS=3.\n",
      "  warnings.warn(\n",
      "c:\\Users\\prava\\Downloads\\Chettha\\New folder\\Lib\\site-packages\\sklearn\\cluster\\_kmeans.py:1446: UserWarning: KMeans is known to have a memory leak on Windows with MKL, when there are less chunks than available threads. You can avoid it by setting the environment variable OMP_NUM_THREADS=3.\n",
      "  warnings.warn(\n",
      "c:\\Users\\prava\\Downloads\\Chettha\\New folder\\Lib\\site-packages\\sklearn\\cluster\\_kmeans.py:1446: UserWarning: KMeans is known to have a memory leak on Windows with MKL, when there are less chunks than available threads. You can avoid it by setting the environment variable OMP_NUM_THREADS=3.\n",
      "  warnings.warn(\n",
      "c:\\Users\\prava\\Downloads\\Chettha\\New folder\\Lib\\site-packages\\sklearn\\cluster\\_kmeans.py:1446: UserWarning: KMeans is known to have a memory leak on Windows with MKL, when there are less chunks than available threads. You can avoid it by setting the environment variable OMP_NUM_THREADS=3.\n",
      "  warnings.warn(\n",
      "c:\\Users\\prava\\Downloads\\Chettha\\New folder\\Lib\\site-packages\\sklearn\\cluster\\_kmeans.py:1446: UserWarning: KMeans is known to have a memory leak on Windows with MKL, when there are less chunks than available threads. You can avoid it by setting the environment variable OMP_NUM_THREADS=3.\n",
      "  warnings.warn(\n"
     ]
    },
    {
     "data": {
      "image/png": "[encoded data removed]",
      "text/plain": [
       "<Figure size 640x480 with 1 Axes>"
      ]
     },
     "metadata": {},
     "output_type": "display_data"
    }
   ],
   "source": [
    "import matplotlib.pyplot as plt\n",
    "\n",
    "# Calculate distortions (inertia) for different values of k\n",
    "distortions = []\n",
    "\n",
    "for k in range(2, 20):\n",
    "    kmeans = KMeans(n_clusters=k, random_state=42, n_init=\"auto\").fit(X)\n",
    "    distortions.append(kmeans.inertia_)\n",
    "\n",
    "# Plot the elbow curve\n",
    "plt.plot(range(2, 20), distortions, marker='o')\n",
    "plt.xlabel('Number of clusters (k)')\n",
    "plt.ylabel('Distortion (Inertia)')\n",
    "plt.title('Elbow Method for Optimal k')\n",
    "plt.show()\n"
   ]
  }
 ],
 "metadata": {
  "kernelspec": {
   "display_name": "Python 3 (ipykernel)",
   "language": "python",
   "name": "python3"
  },
  "language_info": {
   "codemirror_mode": {
    "name": "ipython",
    "version": 3
   },
   "file_extension": ".py",
   "mimetype": "text/x-python",
   "name": "python",
   "nbconvert_exporter": "python",
   "pygments_lexer": "ipython3",
   "version": "3.12.4"
  }
 },
 "nbformat": 4,
 "nbformat_minor": 5
}
